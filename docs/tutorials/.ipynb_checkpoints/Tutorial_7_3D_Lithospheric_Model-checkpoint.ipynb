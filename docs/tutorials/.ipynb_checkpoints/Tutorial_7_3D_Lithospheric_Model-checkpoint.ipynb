{
 "cells": [
  {
   "cell_type": "markdown",
   "metadata": {},
   "source": [
    "# Tutorial 7: 3D Lithospheric Model\n",
    "\n",
    "**Romain Beucher** romain.beucher (at) anu.edu.au"
   ]
  },
  {
   "cell_type": "code",
   "execution_count": 1,
   "metadata": {},
   "outputs": [
    {
     "name": "stdout",
     "output_type": "stream",
     "text": [
      "loaded rc file /home/jovyan/workspace/codes/UWGeodynamics_use_with_docker/UWGeodynamics/uwgeo-data/uwgeodynamicsrc\n"
     ]
    }
   ],
   "source": [
    "import UWGeodynamics as GEO\n",
    "from UWGeodynamics import visualisation as vis"
   ]
  },
  {
   "cell_type": "code",
   "execution_count": 2,
   "metadata": {},
   "outputs": [],
   "source": [
    "u = GEO.UnitRegistry"
   ]
  },
  {
   "cell_type": "code",
   "execution_count": 3,
   "metadata": {},
   "outputs": [],
   "source": [
    "# Characteristic values of the system\n",
    "half_rate = 1.8 * u.centimeter / u.year\n",
    "model_length = 400e3 * u.meter\n",
    "surfaceTemp = 273.15 * u.degK\n",
    "baseModelTemp = 1603.15 * u.degK\n",
    "bodyforce = 3300 * u.kilogram / u.metre**3 * 9.81 * u.meter / u.second**2\n",
    "\n",
    "KL = model_length\n",
    "Kt = KL / half_rate\n",
    "KM = bodyforce * KL**2 * Kt**2\n",
    "KT = (baseModelTemp - surfaceTemp)\n",
    "\n",
    "GEO.scaling_coefficients[\"[length]\"] = KL\n",
    "GEO.scaling_coefficients[\"[time]\"] = Kt\n",
    "GEO.scaling_coefficients[\"[mass]\"]= KM\n",
    "GEO.scaling_coefficients[\"[temperature]\"] = KT"
   ]
  },
  {
   "cell_type": "code",
   "execution_count": 4,
   "metadata": {},
   "outputs": [],
   "source": [
    "Model = GEO.Model(elementRes=(32, 32, 16), \n",
    "                  minCoord=(0. * u.kilometer, 0. * u.kilometer, -170. * u.kilometer), \n",
    "                  maxCoord=(400. * u.kilometer, 400. * u.kilometer, 10. * u.kilometer), \n",
    "                  gravity=(0.0, 0.0, -9.81 * u.meter / u.second**2))"
   ]
  },
  {
   "cell_type": "code",
   "execution_count": 5,
   "metadata": {},
   "outputs": [],
   "source": [
    "Model.outputDir=\"outputs_tutorial7\""
   ]
  },
  {
   "cell_type": "code",
   "execution_count": 6,
   "metadata": {},
   "outputs": [],
   "source": [
    "Model.diffusivity = 1e-6 * u.metre**2 / u.second \n",
    "Model.capacity    = 1000. * u.joule / (u.kelvin * u.kilogram)"
   ]
  },
  {
   "cell_type": "code",
   "execution_count": 7,
   "metadata": {},
   "outputs": [],
   "source": [
    "air        = Model.add_material(name=\"Air\", shape=GEO.shapes.Layer3D(top=Model.top, bottom=2 * u.kilometer))\n",
    "stickyAir  = Model.add_material(name=\"StickyAir\", shape=GEO.shapes.Layer3D(top=air.bottom, bottom= 0 * u.kilometer))\n",
    "uppercrust = Model.add_material(name=\"UppperCrust\", shape=GEO.shapes.Layer3D(top=stickyAir.bottom, bottom=-35 * u.kilometer))\n",
    "mantleLithosphere = Model.add_material(name=\"MantleLithosphere\", shape=GEO.shapes.Layer(top=uppercrust.bottom, bottom=-100 * u.kilometer))\n",
    "mantle     = Model.add_material(name=\"Mantle\", shape=GEO.shapes.Layer3D(top=mantleLithosphere.bottom, bottom=Model.bottom))"
   ]
  },
  {
   "cell_type": "code",
   "execution_count": null,
   "metadata": {},
   "outputs": [],
   "source": [
    "if GEO.nProcs == 1:\n",
    "    Fig = vis.Figure(resolution=(1200,600))\n",
    "    Fig.Surface(Model.mesh, Model.projMaterialField, cullface=False, opacity=0.5)\n",
    "    Fig.window()"
   ]
  },
  {
   "cell_type": "code",
   "execution_count": 9,
   "metadata": {},
   "outputs": [],
   "source": [
    "air.diffusivity = 1.0e-6 * u.metre**2 / u.second\n",
    "stickyAir.diffusivity = 1.0e-6 * u.metre**2 / u.second\n",
    "\n",
    "air.capacity = 100. * u.joule / (u.kelvin * u.kilogram)\n",
    "stickyAir.capacity = 100. * u.joule / (u.kelvin * u.kilogram)"
   ]
  },
  {
   "cell_type": "code",
   "execution_count": 10,
   "metadata": {},
   "outputs": [],
   "source": [
    "air.density         = 1. * u.kilogram / u.metre**3\n",
    "stickyAir.density   = 1. * u.kilogram / u.metre**3\n",
    "uppercrust.density  = 2620. * u.kilogram / u.metre**3\n",
    "mantleLithosphere.density  = 3370. * u.kilogram / u.metre**3\n",
    "mantle.density      = 2620. * u.kilogram / u.metre**3"
   ]
  },
  {
   "cell_type": "code",
   "execution_count": 11,
   "metadata": {},
   "outputs": [],
   "source": [
    "uppercrust.radiogenicHeatProd = 0.7 * u.microwatt / u.meter**3\n",
    "mantleLithosphere.radiogenicHeatProd = 0.02e-6 * u.microwatt / u.meter**3"
   ]
  },
  {
   "cell_type": "code",
   "execution_count": 12,
   "metadata": {},
   "outputs": [],
   "source": [
    "rh = GEO.ViscousCreepRegistry()"
   ]
  },
  {
   "cell_type": "code",
   "execution_count": 13,
   "metadata": {},
   "outputs": [],
   "source": [
    "air.viscosity                = 1e19 * u.pascal * u.second\n",
    "stickyAir.viscosity          = 1e20 * u.pascal * u.second\n",
    "uppercrust.viscosity         = 1e23 * u.pascal * u.second\n",
    "mantleLithosphere.viscosity  = 1e20 * u.pascal * u.second\n",
    "mantle.viscosity             = 1e19 * u.pascal * u.second"
   ]
  },
  {
   "cell_type": "markdown",
   "metadata": {},
   "source": [
    "## Temperature Boundary Condition"
   ]
  },
  {
   "cell_type": "code",
   "execution_count": 14,
   "metadata": {},
   "outputs": [
    {
     "data": {
      "text/plain": [
       "<underworld.conditions._conditions.DirichletCondition at 0x7fc0ef9b0eb8>"
      ]
     },
     "execution_count": 14,
     "metadata": {},
     "output_type": "execute_result"
    }
   ],
   "source": [
    "Model.set_temperatureBCs(top=293.15 * u.degK, \n",
    "                         bottom=1603.15 * u.degK)"
   ]
  },
  {
   "cell_type": "markdown",
   "metadata": {},
   "source": [
    "## Velocity Boundary Conditions"
   ]
  },
  {
   "cell_type": "code",
   "execution_count": 15,
   "metadata": {},
   "outputs": [
    {
     "data": {
      "text/plain": [
       "<underworld.conditions._conditions.DirichletCondition at 0x7fc0ef9b03c8>"
      ]
     },
     "execution_count": 15,
     "metadata": {},
     "output_type": "execute_result"
    }
   ],
   "source": [
    "Model.set_velocityBCs(left=[-2.5 * u.centimeter / u.year, None, None],\n",
    "                       right=[2.5 * u.centimeter / u.year, None, None],\n",
    "                       front=[None, 0.0, None], back=[None, 0.0, None],\n",
    "                       bottom=[None, None, 0.0],\n",
    "                       order_wall_conditions=[\"bottom\", \"top\", \"front\", \"back\", \"left\", \"right\"])"
   ]
  },
  {
   "cell_type": "code",
   "execution_count": 16,
   "metadata": {},
   "outputs": [],
   "source": [
    "Model.init_model(temperature=\"steady-state\")"
   ]
  },
  {
   "cell_type": "code",
   "execution_count": 17,
   "metadata": {},
   "outputs": [],
   "source": [
    "Model.solver.set_inner_method(\"mumps\")\n",
    "Model.solver.set_penalty(1e6)\n",
    "GEO.rcParams[\"initial.nonlinear.tolerance\"] = 1e-4"
   ]
  },
  {
   "cell_type": "code",
   "execution_count": null,
   "metadata": {
    "scrolled": true
   },
   "outputs": [],
   "source": [
    "if GEO.nProcs == 1:\n",
    "    Fig = vis.Figure(resolution=(1200,600))\n",
    "    Fig.Surface(Model.mesh, Model.temperature, cullface=False, opacity=0.5, colours=\"coolwarm\")\n",
    "    Fig.window()"
   ]
  },
  {
   "cell_type": "code",
   "execution_count": null,
   "metadata": {
    "scrolled": true
   },
   "outputs": [],
   "source": [
    "if GEO.nProcs == 1:\n",
    "    Fig = vis.Figure(resolution=(1200,600))\n",
    "    Fig.Surface(Model.mesh.subMesh, Model.pressureField, cullface=False, opacity=0.5)\n",
    "    Fig.window()"
   ]
  },
  {
   "cell_type": "code",
   "execution_count": 20,
   "metadata": {},
   "outputs": [
    {
     "name": "stdout",
     "output_type": "stream",
     "text": [
      "Running with UWGeodynamics version 2.10.0-dev-71e6210(2.10-pre_release)\n",
      "Options:  -Q22_pc_type gkgdiag -force_correction True -ksp_type bsscr -pc_type none -ksp_k2_type NULL -rescale_equations False -remove_constant_pressure_null_space False -change_backsolve False -change_A11rhspresolve False -restore_K False -A11_ksp_type preonly -A11_pc_type lu -A11_pc_factor_mat_solver_type mumps -scr_ksp_type fgmres -scr_ksp_rtol 1e-05 -A11_mg_active False\n",
      "Step:     1 Model Time: 120699.1 year dt: 120699.1 year (2020-08-13 05:59:23)\n"
     ]
    },
    {
     "data": {
      "text/plain": [
       "1"
      ]
     },
     "execution_count": 20,
     "metadata": {},
     "output_type": "execute_result"
    }
   ],
   "source": [
    "Model.run_for(nstep=1)"
   ]
  },
  {
   "cell_type": "code",
   "execution_count": null,
   "metadata": {},
   "outputs": [],
   "source": [
    "if GEO.nProcs == 1:\n",
    "    Fig = vis.Figure(resolution=(1200,600))\n",
    "    Fig.VectorArrows(Model.mesh, Model.velocityField, cullface=False, opacity=0.5)\n",
    "    Fig.window()"
   ]
  }
 ],
 "metadata": {
  "kernelspec": {
   "display_name": "Python 3",
   "language": "python",
   "name": "python3"
  },
  "language_info": {
   "codemirror_mode": {
    "name": "ipython",
    "version": 3
   },
   "file_extension": ".py",
   "mimetype": "text/x-python",
   "name": "python",
   "nbconvert_exporter": "python",
   "pygments_lexer": "ipython3",
   "version": "3.7.3"
  }
 },
 "nbformat": 4,
 "nbformat_minor": 2
}
