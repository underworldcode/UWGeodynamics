{
 "cells": [
  {
   "cell_type": "markdown",
   "metadata": {},
   "source": [
    "# Tutorial 9: Extensional reactivation of continental margins\n",
    "\n",
    "Romain Beucher, Peter Lovely, Amy L'Anson after (l'Anson et al. 2018)\n",
    "\n",
    "\n",
    "![Model](./images/Tutorial_9.gif)"
   ]
  },
  {
   "cell_type": "code",
   "execution_count": 1,
   "metadata": {},
   "outputs": [
    {
     "name": "stdout",
     "output_type": "stream",
     "text": [
      "loaded rc file /opt/venv/lib/python3.7/site-packages/UWGeodynamics/uwgeo-data/uwgeodynamicsrc\n"
     ]
    }
   ],
   "source": [
    "import UWGeodynamics as GEO\n",
    "from UWGeodynamics import visualisation as vis"
   ]
  },
  {
   "cell_type": "code",
   "execution_count": 2,
   "metadata": {},
   "outputs": [],
   "source": [
    "u = GEO.UnitRegistry"
   ]
  },
  {
   "cell_type": "markdown",
   "metadata": {},
   "source": [
    "## Scaling"
   ]
  },
  {
   "cell_type": "code",
   "execution_count": 3,
   "metadata": {},
   "outputs": [],
   "source": [
    "half_rate = 1.5 * u.centimeter / u.year\n",
    "model_length = 128e3 * u.meter\n",
    "surfaceTemp = 293.15 * u.degK\n",
    "baseModelTemp = 1573.15 * u.degK\n",
    "bodyforce = 3395 * u.kilogram / u.metre**3 * 9.81 * u.meter / u.second**2\n",
    "\n",
    "KL = model_length\n",
    "Kt = KL / half_rate\n",
    "KM = bodyforce * KL**2 * Kt**2\n",
    "KT = (baseModelTemp - surfaceTemp)\n",
    "\n",
    "GEO.scaling_coefficients[\"[length]\"] = KL\n",
    "GEO.scaling_coefficients[\"[time]\"] = Kt\n",
    "GEO.scaling_coefficients[\"[mass]\"]= KM\n",
    "GEO.scaling_coefficients[\"[temperature]\"] = KT"
   ]
  },
  {
   "cell_type": "markdown",
   "metadata": {},
   "source": [
    "### Model Setup (Figure from I'Anson et al., 2018)\n",
    "\n",
    "\n",
    "![Setup](images/LAnson2018.png)"
   ]
  },
  {
   "cell_type": "code",
   "execution_count": 4,
   "metadata": {},
   "outputs": [],
   "source": [
    "Model = GEO.Model(elementRes=(512, 256), \n",
    "                  minCoord=(0. * u.kilometer, -60. * u.kilometer), \n",
    "                  maxCoord=(128. * u.kilometer, 4. * u.kilometer), \n",
    "                  gravity=(0.0, -9.81 * u.meter / u.second**2))"
   ]
  },
  {
   "cell_type": "code",
   "execution_count": 5,
   "metadata": {},
   "outputs": [],
   "source": [
    "Model.stressLimiter = 300 * u.megapascal"
   ]
  },
  {
   "cell_type": "code",
   "execution_count": 6,
   "metadata": {},
   "outputs": [],
   "source": [
    "Model.mesh_advector(axis=0)"
   ]
  },
  {
   "cell_type": "markdown",
   "metadata": {},
   "source": [
    "# Add some Materials\n",
    "\n",
    "Now that we have our \"universe\" (box, sand pit) ready, we need to fill it with some materials.\n",
    "The *geodynamics* module is designed around that idea of materials, which are essentially a way to define physical properties across the Model domain.\n",
    "\n",
    "A material (or a phase) is first defined by the space it takes in the box (its shape)."
   ]
  },
  {
   "cell_type": "code",
   "execution_count": 7,
   "metadata": {},
   "outputs": [],
   "source": [
    "Model.diffusivity = 1e-6 * u.metre**2 / u.second \n",
    "Model.capacity    = 1000. * u.joule / (u.kelvin * u.kilogram)"
   ]
  },
  {
   "cell_type": "markdown",
   "metadata": {},
   "source": [
    "The Model we are building is essentially a layered cake. The geodynamics module provide and easy way to define a layer by defining shape as *layer* and specifying its *top* and *bottom*. The order is important: when 2 shapes overlay each other, only the second is used."
   ]
  },
  {
   "cell_type": "code",
   "execution_count": 8,
   "metadata": {},
   "outputs": [],
   "source": [
    "air = Model.add_material(name=\"Air\", shape=GEO.shapes.Layer(top=Model.top, bottom=0.0 * u.kilometer))\n",
    "Sediment1 = Model.add_material(name=\"Sediment1\", shape=GEO.shapes.Layer(top=air.bottom, bottom= -1.0 * u.kilometer))\n",
    "Sediment2 = Model.add_material(name=\"Sediment2\", shape=GEO.shapes.Layer(top=Sediment1.bottom, bottom= -2.0 * u.kilometer))\n",
    "Sediment3 = Model.add_material(name=\"Sediment3\", shape=GEO.shapes.Layer(top=Sediment2.bottom, bottom= -3.0 * u.kilometer))\n",
    "Sediment4 = Model.add_material(name=\"Sediment4\", shape=GEO.shapes.Layer(top=Sediment3.bottom, bottom= -4.0 * u.kilometer))\n",
    "Sediment5 = Model.add_material(name=\"Sediment5\", shape=GEO.shapes.Layer(top=Sediment4.bottom, bottom= -5.0 * u.kilometer))\n",
    "Sediment6 = Model.add_material(name=\"Sediment6\", shape=GEO.shapes.Layer(top=Sediment5.bottom, bottom= -6.0 * u.kilometer))\n",
    "Sediment7 = Model.add_material(name=\"Sediment7\", shape=GEO.shapes.Layer(top=Sediment6.bottom, bottom= -7.0 * u.kilometer))\n",
    "Sediment8 = Model.add_material(name=\"Sediment8\", shape=GEO.shapes.Layer(top=Sediment7.bottom, bottom= -8.0 * u.kilometer))\n",
    "Sediment9 = Model.add_material(name=\"Sediment9\", shape=GEO.shapes.Layer(top=Sediment8.bottom, bottom= -9.0 * u.kilometer))\n",
    "Basement1 = Model.add_material(name=\"Basement1\", shape=GEO.shapes.Layer(top=Sediment9.bottom, bottom= -11.0 * u.kilometer))\n",
    "Basement2 = Model.add_material(name=\"Basement2\", shape=GEO.shapes.Layer(top=Basement1.bottom, bottom= -13.0 * u.kilometer))\n",
    "Basement3 = Model.add_material(name=\"Basement3\", shape=GEO.shapes.Layer(top=Basement2.bottom, bottom= -15.0 * u.kilometer))\n",
    "Lowercrust = Model.add_material(name=\"LowerCrust\", shape=GEO.shapes.Layer(top=Basement3.bottom, bottom=-25.0 * u.kilometer))\n",
    "mantleLithosphere = Model.add_material(name=\"MantleLithosphere\", shape=GEO.shapes.Layer(top=Lowercrust.bottom, bottom=-40.0 * u.kilometer))\n",
    "mantle = Model.add_material(name=\"Mantle\", shape=GEO.shapes.Layer(top=mantleLithosphere.bottom, bottom=Model.bottom))\n",
    "sediment = Model.add_material(name=\"Sediment\")"
   ]
  },
  {
   "cell_type": "code",
   "execution_count": 9,
   "metadata": {},
   "outputs": [],
   "source": [
    "vertices1 = [(100.* u.kilometer, -2.0 * u.kilometer),\n",
    "            (79.* u.kilometer, -23.0 * u.kilometer),\n",
    "            (77.* u.kilometer, -23.0 * u.kilometer),\n",
    "            (98.* u.kilometer, -2.0 * u.kilometer)]\n",
    "\n",
    "fault = GEO.shapes.Polygon(vertices1)\n",
    "\n",
    "fault = Model.add_material (name = \"Fault\", shape = fault)"
   ]
  },
  {
   "cell_type": "code",
   "execution_count": 10,
   "metadata": {},
   "outputs": [],
   "source": [
    "vertices2 = [(100.* u.kilometer, -2.0 * u.kilometer),\n",
    "            (128.* u.kilometer, -2.0 * u.kilometer),\n",
    "            (128.* u.kilometer, -25.0 * u.kilometer),\n",
    "            (77.* u.kilometer, -25.0 * u.kilometer)]\n",
    "\n",
    "backstop = GEO.shapes.Polygon(vertices2)\n",
    "\n",
    "backstop = Model.add_material (name = \"Backstop\", shape = backstop)"
   ]
  },
  {
   "cell_type": "code",
   "execution_count": 24,
   "metadata": {},
   "outputs": [
    {
     "data": {
      "text/html": [
       "<img src='data:image/png;base64,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'>"
      ],
      "text/plain": [
       "<IPython.core.display.HTML object>"
      ]
     },
     "metadata": {},
     "output_type": "display_data"
    }
   ],
   "source": [
    "colours = \"\"\"#ffffff #c8c5bb #c4bf7e #c3b768 #c09d35 #bd8b22\n",
    "#b76709 #9d3800 #8c2701 #751605 #41652c #b2c4a2 #3c0911 #580909\"\"\"\n",
    "\n",
    "Fig = vis.Figure(figsize=(800, 500))\n",
    "Fig.Points(Model.swarm, Model.materialField, colours=colours, discrete=True, fn_size=3)\n",
    "Fig.show()"
   ]
  },
  {
   "cell_type": "code",
   "execution_count": null,
   "metadata": {},
   "outputs": [],
   "source": [
    "air.diffusivity = 1.0e-6 * u.metre**2 / u.second\n",
    "air.capacity = 100. * u.joule / (u.kelvin * u.kilogram)"
   ]
  },
  {
   "cell_type": "markdown",
   "metadata": {},
   "source": [
    "## Define Densities"
   ]
  },
  {
   "cell_type": "code",
   "execution_count": 16,
   "metadata": {},
   "outputs": [],
   "source": [
    "air.density = 1. * u.kilogram / u.metre**3\n",
    "Sediment1.density = GEO.LinearDensity(2000. * u.kilogram / u.metre**3, thermalExpansivity=3e-5 / u.kelvin)\n",
    "Sediment2.density = GEO.LinearDensity(2050. * u.kilogram / u.metre**3, thermalExpansivity=3e-5 / u.kelvin)\n",
    "Sediment3.density = GEO.LinearDensity(2100. * u.kilogram / u.metre**3, thermalExpansivity=3e-5 / u.kelvin)\n",
    "Sediment4.density = GEO.LinearDensity(2150. * u.kilogram / u.metre**3, thermalExpansivity=3e-5 / u.kelvin)\n",
    "Sediment5.density = GEO.LinearDensity(2200. * u.kilogram / u.metre**3, thermalExpansivity=3e-5 / u.kelvin)\n",
    "Sediment6.density = GEO.LinearDensity(2250. * u.kilogram / u.metre**3, thermalExpansivity=3e-5 / u.kelvin)\n",
    "Sediment7.density = GEO.LinearDensity(2300. * u.kilogram / u.metre**3, thermalExpansivity=3e-5 / u.kelvin)\n",
    "Sediment8.density = GEO.LinearDensity(2350. * u.kilogram / u.metre**3, thermalExpansivity=3e-5 / u.kelvin)\n",
    "Sediment9.density = GEO.LinearDensity(2400. * u.kilogram / u.metre**3, thermalExpansivity=3e-5 / u.kelvin)\n",
    "Basement1.density = GEO.LinearDensity(2500. * u.kilogram / u.metre**3, thermalExpansivity=3e-5 / u.kelvin)\n",
    "Basement2.density = GEO.LinearDensity(2600. * u.kilogram / u.metre**3, thermalExpansivity=3e-5 / u.kelvin)\n",
    "Basement3.density = GEO.LinearDensity(2700. * u.kilogram / u.metre**3, thermalExpansivity=3e-5 / u.kelvin)\n",
    "Lowercrust.density = GEO.LinearDensity(2800. * u.kilogram / u.metre**3, thermalExpansivity=3e-5 / u.kelvin)\n",
    "backstop.density = GEO.LinearDensity(2800. * u.kilogram / u.metre**3, thermalExpansivity=3e-5 / u.kelvin)\n",
    "fault.density = GEO.LinearDensity(2000. * u.kilogram / u.metre**3, thermalExpansivity=3e-5 / u.kelvin)\n",
    "mantleLithosphere.density = GEO.LinearDensity(3370. * u.kilogram / u.metre**3, thermalExpansivity=3e-5 / u.kelvin)\n",
    "mantle.density = GEO.LinearDensity(3395. * u.kilogram / u.metre**3, thermalExpansivity=3e-5 / u.kelvin)\n",
    "sediment = GEO.LinearDensity(1900. * u.kilogram / u.metre**3, thermalExpansivity=3e-5 / u.kelvin)"
   ]
  },
  {
   "cell_type": "code",
   "execution_count": 18,
   "metadata": {},
   "outputs": [
    {
     "data": {
      "text/html": [
       "<img src='data:image/png;base64,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'>"
      ],
      "text/plain": [
       "<IPython.core.display.HTML object>"
      ]
     },
     "metadata": {},
     "output_type": "display_data"
    }
   ],
   "source": [
    "Fig = vis.Figure(figsize=(800,400))\n",
    "Fig.Points(Model.swarm, GEO.dimensionalise(Model.densityField, u.kilogram / u.metre**3))\n",
    "Fig.show()"
   ]
  },
  {
   "cell_type": "markdown",
   "metadata": {},
   "source": [
    "# Define Viscosities\n",
    "\n",
    "The rheology library contains some commonly used rheologies stored in a python dictionary structure. We can list the keys defining the rheologies as follows:"
   ]
  },
  {
   "cell_type": "code",
   "execution_count": 19,
   "metadata": {},
   "outputs": [],
   "source": [
    "Model.minViscosity = 1e18 * u.pascal * u.second\n",
    "Model.maxViscosity = 5e23 * u.pascal * u.second"
   ]
  },
  {
   "cell_type": "code",
   "execution_count": 20,
   "metadata": {},
   "outputs": [],
   "source": [
    "air.viscosity                = 1e18 * u.pascal * u.second\n",
    "Sediment1.viscosity          = 1e22 * u.pascal * u.second\n",
    "Sediment2.viscosity          = 1e22 * u.pascal * u.second\n",
    "Sediment3.viscosity          = 1e22 * u.pascal * u.second\n",
    "Sediment4.viscosity          = 1e22 * u.pascal * u.second\n",
    "Sediment5.viscosity          = 1e22 * u.pascal * u.second\n",
    "Sediment6.viscosity          = 1e22 * u.pascal * u.second\n",
    "Sediment7.viscosity          = 1e22 * u.pascal * u.second\n",
    "Sediment8.viscosity          = 1e22 * u.pascal * u.second\n",
    "Sediment9.viscosity          = 1e22 * u.pascal * u.second\n",
    "Basement1.viscosity          = 1e22 * u.pascal * u.second\n",
    "Basement2.viscosity          = 1e22 * u.pascal * u.second\n",
    "Basement3.viscosity          = 1e22 * u.pascal * u.second\n",
    "Lowercrust.viscosity         = 5e21 * u.pascal * u.second\n",
    "fault.viscosity              = 5e22 * u.pascal * u.second\n",
    "backstop.viscosity           = 5e23 * u.pascal * u.second\n",
    "mantleLithosphere.viscosity  = 1e22 * u.pascal * u.second\n",
    "mantle.viscosity             = 5e20 * u.pascal * u.second\n",
    "sediment.viscosity          = 1e21 * u.pascal * u.second"
   ]
  },
  {
   "cell_type": "markdown",
   "metadata": {},
   "source": [
    "# Define Plasticity\n",
    "\n",
    "Plastic behavior is assigned using the same approach as for viscosities."
   ]
  },
  {
   "cell_type": "code",
   "execution_count": 22,
   "metadata": {},
   "outputs": [],
   "source": [
    "pl = GEO.PlasticityRegistry()"
   ]
  },
  {
   "cell_type": "code",
   "execution_count": 25,
   "metadata": {},
   "outputs": [],
   "source": [
    "Sediment1.plasticity = GEO.DruckerPrager(name=\"Sed1_plastic\",\n",
    "                                         cohesion=20. * u.megapascal,\n",
    "                                         cohesionAfterSoftening=3. * u.megapascal,\n",
    "                                         frictionCoefficient=0.567,\n",
    "                                         frictionAfterSoftening=0.112,\n",
    "                                         epsilon1=0.0, epsilon2=0.2)\n",
    "Sediment2.plasticity = GEO.DruckerPrager(name=\"Sed2_plastic\",\n",
    "                                         cohesion=20. * u.megapascal,\n",
    "                                         cohesionAfterSoftening=3. * u.megapascal,\n",
    "                                         frictionCoefficient=0.567,\n",
    "                                         frictionAfterSoftening=0.112,\n",
    "                                         epsilon1=0.0, epsilon2=0.2)\n",
    "Sediment3.plasticity = GEO.DruckerPrager(name=\"Sed3_plastic\",\n",
    "                                         cohesion=30. * u.megapascal,\n",
    "                                         cohesionAfterSoftening=3. * u.megapascal,\n",
    "                                         frictionCoefficient=0.567,\n",
    "                                         frictionAfterSoftening=0.112,\n",
    "                                         epsilon1=0.0, epsilon2=0.2)\n",
    "Sediment4.plasticity = GEO.DruckerPrager(name=\"Sed4_plastic\",\n",
    "                                         cohesion=30. * u.megapascal,\n",
    "                                         cohesionAfterSoftening=3. * u.megapascal,\n",
    "                                         frictionCoefficient=0.567,\n",
    "                                         frictionAfterSoftening=0.112,\n",
    "                                         epsilon1=0.0, epsilon2=0.2)\n",
    "Sediment5.plasticity = GEO.DruckerPrager(name=\"Sed5_plastic\",\n",
    "                                         cohesion=30. * u.megapascal,\n",
    "                                         cohesionAfterSoftening=3. * u.megapascal,\n",
    "                                         frictionCoefficient=0.567,\n",
    "                                         frictionAfterSoftening=0.112,\n",
    "                                         epsilon1=0.0, epsilon2=0.2)\n",
    "Sediment6.plasticity = GEO.DruckerPrager(name=\"Sed6_plastic\",\n",
    "                                         cohesion=30. * u.megapascal,\n",
    "                                         cohesionAfterSoftening=3. * u.megapascal,\n",
    "                                         frictionCoefficient=0.567,\n",
    "                                         frictionAfterSoftening=0.112,\n",
    "                                         epsilon1=0.0, epsilon2=0.2)\n",
    "Sediment7.plasticity = GEO.DruckerPrager(name=\"Sed7_plastic\",\n",
    "                                         cohesion=30. * u.megapascal,\n",
    "                                         cohesionAfterSoftening=3. * u.megapascal,\n",
    "                                         frictionCoefficient=0.567,\n",
    "                                         frictionAfterSoftening=0.112,\n",
    "                                         epsilon1=0.0, epsilon2=0.2)\n",
    "Sediment8.plasticity = GEO.DruckerPrager(name=\"Sed8_plastic\",\n",
    "                                         cohesion=30. * u.megapascal,\n",
    "                                         cohesionAfterSoftening=3. * u.megapascal,\n",
    "                                         frictionCoefficient=0.567,\n",
    "                                         frictionAfterSoftening=0.112,\n",
    "                                         epsilon1=0.0, epsilon2=0.2)\n",
    "Sediment9.plasticity = GEO.DruckerPrager(name=\"Sed9_plastic\",\n",
    "                                         cohesion=30. * u.megapascal,\n",
    "                                         cohesionAfterSoftening=3. * u.megapascal,\n",
    "                                         frictionCoefficient=0.567,\n",
    "                                         frictionAfterSoftening=0.112,\n",
    "                                         epsilon1=0.0, epsilon2=0.2)\n",
    "Basement1.plasticity = GEO.DruckerPrager(name=\"Bsmt1_plastic\",\n",
    "                                         cohesion=20. * u.megapascal,\n",
    "                                         cohesionAfterSoftening=4. * u.megapascal,\n",
    "                                         frictionCoefficient=0.577,\n",
    "                                         frictionAfterSoftening=0.1154,\n",
    "                                         epsilon1=0.0, epsilon2=0.2)\n",
    "Basement3.plasticity = GEO.DruckerPrager(name=\"Bsmt2_plastic\",\n",
    "                                         cohesion=20. * u.megapascal,\n",
    "                                         cohesionAfterSoftening=4. * u.megapascal,\n",
    "                                         frictionCoefficient=0.577,\n",
    "                                         frictionAfterSoftening=0.1154,\n",
    "                                         epsilon1=0.0, epsilon2=0.2)\n",
    "Basement2.plasticity = GEO.DruckerPrager(name=\"Bsmt3_plastic\",\n",
    "                                         cohesion=20. * u.megapascal,\n",
    "                                         cohesionAfterSoftening=4. * u.megapascal,\n",
    "                                         frictionCoefficient=0.577,\n",
    "                                         frictionAfterSoftening=0.1154,\n",
    "                                         epsilon1=0.0, epsilon2=0.2)\n",
    "sediment.plasticity = GEO.DruckerPrager(name=\"Sed_plastic\",\n",
    "                                        cohesion=20. * u.megapascal,\n",
    "                                        cohesionAfterSoftening=3. * u.megapascal,\n",
    "                                        frictionCoefficient=0.567,\n",
    "                                        frictionAfterSoftening=0.112,\n",
    "                                        epsilon1=0.0, epsilon2=0.2)\n",
    "fault.plasticity = GEO.DruckerPrager(name=\"Flt_plastic\",\n",
    "                                     cohesion=20. * u.megapascal,\n",
    "                                     cohesionAfterSoftening=0.8 * u.megapascal,\n",
    "                                     frictionCoefficient=0.577,\n",
    "                                     frictionAfterSoftening=0.02308,\n",
    "                                     epsilon1=0.0, epsilon2=0.2)"
   ]
  },
  {
   "cell_type": "code",
   "execution_count": 26,
   "metadata": {},
   "outputs": [],
   "source": [
    "Sediment1.stressLimiter = 75.0 * u.megapascal\n",
    "Sediment2.stressLimiter = 75.0 * u.megapascal\n",
    "Sediment3.stressLimiter = 75.0 * u.megapascal\n",
    "Sediment4.stressLimiter = 75.0 * u.megapascal\n",
    "Sediment5.stressLimiter = 75.0 * u.megapascal\n",
    "Sediment6.stressLimiter = 75.0 * u.megapascal\n",
    "Sediment7.stressLimiter = 75.0 * u.megapascal\n",
    "Sediment8.stressLimiter = 75.0 * u.megapascal\n",
    "Sediment9.stressLimiter = 75.0 * u.megapascal\n",
    "Basement1.stressLimiter = 150.0 * u.megapascal\n",
    "Basement2.stressLimiter = 150.0 * u.megapascal\n",
    "Basement3.stressLimiter = 150.0 * u.megapascal\n",
    "fault.stressLimiter = 50.0 * u.megapascal"
   ]
  },
  {
   "cell_type": "markdown",
   "metadata": {},
   "source": [
    "## Temperature Boundary Conditions"
   ]
  },
  {
   "cell_type": "code",
   "execution_count": 27,
   "metadata": {},
   "outputs": [
    {
     "data": {
      "text/plain": [
       "[<underworld.conditions._conditions.DirichletCondition at 0x7f707905d860>]"
      ]
     },
     "execution_count": 27,
     "metadata": {},
     "output_type": "execute_result"
    }
   ],
   "source": [
    "Model.set_temperatureBCs(top=293.15 * u.degK, \n",
    "                         bottom=1573.15 * u.degK, \n",
    "                         materials=[(air, 293.15 * u.degK)])"
   ]
  },
  {
   "cell_type": "markdown",
   "metadata": {},
   "source": [
    "## Velocity Boundary Conditions"
   ]
  },
  {
   "cell_type": "code",
   "execution_count": 28,
   "metadata": {},
   "outputs": [
    {
     "data": {
      "text/plain": [
       "<UWGeodynamics._velocity_boundaries.VelocityBCs at 0x7f70790d2a20>"
      ]
     },
     "execution_count": 28,
     "metadata": {},
     "output_type": "execute_result"
    }
   ],
   "source": [
    "Model.set_velocityBCs(left=[-3 * u.centimeter / u.year, None],\n",
    "                       right=[0 * u.centimeter / u.year, None],\n",
    "                       bottom=GEO.LecodeIsostasy(reference_mat=mantle, average=True))"
   ]
  },
  {
   "cell_type": "markdown",
   "metadata": {},
   "source": [
    "## Surface Processes"
   ]
  },
  {
   "cell_type": "code",
   "execution_count": 29,
   "metadata": {},
   "outputs": [],
   "source": [
    "Model.surfaceProcesses = GEO.surfaceProcesses.SedimentationThreshold(air=[air], sediment=[Sediment1], threshold=0.)"
   ]
  },
  {
   "cell_type": "code",
   "execution_count": null,
   "metadata": {},
   "outputs": [],
   "source": [
    "Model.init_model(temperature=\"steady-state\")"
   ]
  },
  {
   "cell_type": "code",
   "execution_count": null,
   "metadata": {},
   "outputs": [],
   "source": [
    "Fig = vis.Figure(figsize=(800,400))\n",
    "Fig.Points(Model.swarm, GEO.dimensionalise(Model.viscosityField, u.pascal * u.second), logScale=True)\n",
    "Fig.show()"
   ]
  },
  {
   "cell_type": "code",
   "execution_count": null,
   "metadata": {},
   "outputs": [],
   "source": [
    "Model.solver.set_inner_method(\"mumps\")\n",
    "Model.solver.set_penalty(1e6)\n",
    "GEO.rcParams[\"advection.diffusion.method\"] = \"SLCN\""
   ]
  },
  {
   "cell_type": "code",
   "execution_count": null,
   "metadata": {},
   "outputs": [],
   "source": [
    "Model.run_for(3.0 * u.megayear, checkpoint_interval=0.1*u.megayear)"
   ]
  }
 ],
 "metadata": {
  "kernelspec": {
   "display_name": "Python 3",
   "language": "python",
   "name": "python3"
  },
  "language_info": {
   "codemirror_mode": {
    "name": "ipython",
    "version": 3
   },
   "file_extension": ".py",
   "mimetype": "text/x-python",
   "name": "python",
   "nbconvert_exporter": "python",
   "pygments_lexer": "ipython3",
   "version": "3.7.3"
  }
 },
 "nbformat": 4,
 "nbformat_minor": 2
}
