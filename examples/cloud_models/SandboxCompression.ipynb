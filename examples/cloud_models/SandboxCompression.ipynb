{
 "cells": [
  {
   "cell_type": "markdown",
   "metadata": {},
   "source": [
    "# The Numerical Sandbox: Compression Experiment\n",
    "\n",
    "**Romain Beucher**\n",
    "Version 0.1\n",
    "\n",
    "romain.beucher@unimelb.edu.au\n",
    "\n",
    "The following notebook is an implementation of the Numerical Sandbox Compression Experiment similar to [Buiter et al., 2006](http://sp.lyellcollection.org/content/253/1/29). The test is commonly referred as one of the GEOMOD benchmarks and is used to test the large deformation viscous-plastic behaviour of geodynamic numerical codes.\n",
    "\n",
    "The initial purpose of the GEOMOD numerical experiments was to compare results from analog and numerical experiments. It is not a numerical benchmark sensus-stricto."
   ]
  },
  {
   "cell_type": "code",
   "execution_count": null,
   "metadata": {},
   "outputs": [],
   "source": [
    "import UWGeodynamics as GEO\n",
    "from ipywidgets import interact, interactive, fixed, interact_manual\n",
    "import ipywidgets as widgets\n",
    "from IPython.display import display, Image\n",
    "from IPython.display import clear_output"
   ]
  },
  {
   "cell_type": "code",
   "execution_count": null,
   "metadata": {},
   "outputs": [],
   "source": [
    "u = GEO.u"
   ]
  },
  {
   "cell_type": "markdown",
   "metadata": {},
   "source": [
    "## Scaling"
   ]
  },
  {
   "cell_type": "code",
   "execution_count": null,
   "metadata": {},
   "outputs": [],
   "source": [
    "import underworld as uw\n",
    "import glucifer"
   ]
  },
  {
   "cell_type": "code",
   "execution_count": null,
   "metadata": {},
   "outputs": [],
   "source": [
    "# define all widgets\n",
    "\n",
    "fs = {'description_width': 'initial'} # full style\n",
    "time = widgets.IntSlider(description='no. minutes ', min=1,max=30,style=fs, value=2)\n",
    "wall_vx = widgets.BoundedFloatText(value=-2.5,min=-200.,max=200.0,\n",
    "                                   description='Right wall velocity [cm/hr]', style=fs,disabled=False )\n",
    "res = widgets.BoundedFloatText(value=0.2,min=0.02,max=1.0,\n",
    "                               description='Initial Resolution [cm]', style=fs,disabled=False )\n",
    "outputbox = widgets.Text(\n",
    "    value='output/compression',\n",
    "    description='output path:',\n",
    "    disabled=False\n",
    ")\n",
    "\n",
    "w_button = widgets.Button(\n",
    "    description='Do science',\n",
    "    disabled=False,\n",
    "    button_style='', # 'success', 'info', 'warning', 'danger' or ''\n",
    "    tooltip='Click me',\n",
    "    icon='check'\n",
    ")\n",
    "\n",
    "outputPath = './outputs_tutorial4'\n",
    "\n",
    "def display_options():\n",
    "    display(Image('../images/CompressionSetUp.png'))\n",
    "    display(time)\n",
    "    display(wall_vx)\n",
    "    display(res)\n",
    "    display(outputbox)\n",
    "    display(w_button)"
   ]
  },
  {
   "cell_type": "code",
   "execution_count": null,
   "metadata": {},
   "outputs": [],
   "source": [
    "display_options()"
   ]
  },
  {
   "cell_type": "code",
   "execution_count": null,
   "metadata": {},
   "outputs": [],
   "source": [
    "velocity = 2.5 * u.centimeter / u.hour\n",
    "model_length = 40. * u.centimeter\n",
    "model_height = 10. * u.centimeter\n",
    "refViscosity = 1e7 * u.pascal * u.second\n",
    "bodyforce = 1560 * u.kilogram / u.metre**3 * 9.81 * u.meter / u.second**2\n",
    "\n",
    "KL = model_length\n",
    "Kt = KL / velocity\n",
    "KM = bodyforce * KL**2 * Kt**2\n",
    "\n",
    "GEO.scaling_coefficients[\"[length]\"] = KL\n",
    "GEO.scaling_coefficients[\"[time]\"] = Kt\n",
    "GEO.scaling_coefficients[\"[mass]\"]= KM"
   ]
  },
  {
   "cell_type": "markdown",
   "metadata": {},
   "source": [
    "# General parameters"
   ]
  },
  {
   "cell_type": "code",
   "execution_count": null,
   "metadata": {},
   "outputs": [],
   "source": [
    "def make_model(ctx):\n",
    "    # clear output then display widget again\n",
    "#     clear_output()\n",
    "#     display_options()\n",
    "    \n",
    "    global outputPath \n",
    "    outputPath = str(outputbox.value)\n",
    "    import os\n",
    "    outputPath = os.path.abspath(outputPath)+'/'\n",
    "    \n",
    "    import math\n",
    "    nx = model_length.magnitude / res.value\n",
    "    ny = model_height.magnitude / res.value\n",
    "    \n",
    "    nx = int(math.ceil(nx / 2.) * 2)\n",
    "    ny = int(math.ceil(ny / 2.) * 2)\n",
    "    \n",
    "    Model = GEO.Model(elementRes=(nx,ny), \n",
    "                  minCoord=(0. * u.centimeter, -3.5 * u.centimeter), \n",
    "                  maxCoord=(40. * u.centimeter, 6.5 * u.centimeter))\n",
    "    print(\"Running with {} x {} elements\".format(nx, ny))\n",
    "    Model.outputDir=outputPath\n",
    "    Model.minViscosity = 1.0e5 * u.pascal * u.second\n",
    "    Model.maxViscosity = 1e12 * u.pascal * u.second\n",
    "    Model.mesh_advector(axis=0)\n",
    "    \n",
    "    vx = GEO.nd(wall_vx.value * u.centimetre / u.hour)\n",
    "    \n",
    "    air        = Model.add_material(name=\"Air\", shape=GEO.shapes.Layer(top=Model.top, bottom=0.0))\n",
    "    sand1      = Model.add_material(name=\"Sand1\", shape=GEO.shapes.Layer(top=air.bottom, bottom=Model.bottom))\n",
    "    sand2      = Model.add_material(name=\"Sand2\", shape=GEO.shapes.Layer(top=-1.0 * u.centimetre, bottom=-1.5*u.centimetre))\n",
    "    microbeads = Model.add_material(name=\"Microbeads\", shape=GEO.shapes.Layer(top=-2.5 * u.centimetre, bottom=-3.0*u.centimetre))\n",
    "\n",
    "    import numpy as np\n",
    "\n",
    "    wedge = [( 30.* u.centimeter, 0. * u.centimeter),\n",
    "             (Model.maxCoord[0], 10.*u.centimeter * np.tan(np.radians(10))),\n",
    "             (Model.maxCoord[0], 0. * u.centimeter)]\n",
    "\n",
    "    sand3     = Model.add_material(name=\"Sand3\", shape=GEO.shapes.Polygon(wedge))\n",
    "    \n",
    "    \n",
    "    import numpy as np\n",
    "\n",
    "    x = np.linspace(Model.minCoord[0], Model.maxCoord[0], 1000) * u.centimeter\n",
    "    interface1 = GEO.nd(sand1.top)\n",
    "    interface2 = GEO.nd(sand2.top)\n",
    "    interface3 = GEO.nd(sand2.bottom)\n",
    "    interface4 = GEO.nd(microbeads.top)\n",
    "    interface5 = GEO.nd(microbeads.bottom)\n",
    "\n",
    "    interface1 = Model.add_passive_tracers(name=\"Interface1\", vertices=[x, interface1])\n",
    "    interface2 = Model.add_passive_tracers(name=\"Interface2\", vertices=[x, interface2])\n",
    "    interface3 = Model.add_passive_tracers(name=\"Interface3\", vertices=[x, interface3])\n",
    "    interface4 = Model.add_passive_tracers(name=\"Interface4\", vertices=[x, interface4])\n",
    "    interface5 = Model.add_passive_tracers(name=\"Interface5\", vertices=[x, interface5])\n",
    "    \n",
    "    air.density        = 10. * u.kilogram / u.metre**3\n",
    "    sand1.density      = 1560. * u.kilogram / u.metre**3\n",
    "    sand2.density      = 1560. * u.kilogram / u.metre**3\n",
    "    sand3.density      = 1560. * u.kilogram / u.metre**3\n",
    "    microbeads.density = 1480. * u.kilogram / u.metre**3\n",
    "    \n",
    "    air.viscosity        = 1.0e5 * u.pascal * u.second\n",
    "    sand1.viscosity      = 1.0e12 * u.pascal * u.second\n",
    "    sand2.viscosity      = 1.0e12 * u.pascal * u.second\n",
    "    sand3.viscosity      = 1.0e12 * u.pascal * u.second\n",
    "    microbeads.viscosity = 1.0e12 * u.pascal * u.second\n",
    "    \n",
    "    sandFriction = np.tan(np.radians(36.0))\n",
    "    sandFrictionW = np.tan(np.radians(31.0))\n",
    "\n",
    "    microbeadsFriction = np.tan(np.radians(22.0))\n",
    "    microbeadsFrictionW = np.tan(np.radians(21.0))\n",
    "\n",
    "    sand1.plasticity       = GEO.DruckerPrager(cohesion=10.*u.pascal, frictionCoefficient=sandFriction, frictionAfterSoftening=sandFrictionW)\n",
    "    sand2.plasticity       = GEO.DruckerPrager(cohesion=10.*u.pascal, frictionCoefficient=sandFriction, frictionAfterSoftening=sandFrictionW)\n",
    "    sand3.plasticity       = GEO.DruckerPrager(cohesion=10.*u.pascal, frictionCoefficient=sandFriction, frictionAfterSoftening=sandFrictionW)\n",
    "    microbeads.plasticity  = GEO.DruckerPrager(cohesion=10.*u.pascal, frictionCoefficient=microbeadsFriction, frictionAfterSoftening=microbeadsFrictionW)\n",
    "    conditions = [(Model.y < GEO.nd(Model.bottom +  0.2 * u.centimeter), 0.0),\n",
    "              (Model.y > GEO.nd(Model.bottom +  0.4 * u.centimeter), vx),\n",
    "              (True, (vx / GEO.nd(0.2 * u.centimeter) * (Model.y - GEO.nd(Model.bottom) - GEO.nd(0.2 * u.centimeter))))]\n",
    "    \n",
    "    Model.set_velocityBCs(left=[0.,0.], right=[conditions, 0.], bottom=[0.,0.])\n",
    "    \n",
    "    Model.set_frictional_boundary(left=True, right=True, bottom=True, top=False, friction=19.0, thickness=3)\n",
    "    \n",
    "    GEO.rcParams[\"solver\"] = \"mumps\"\n",
    "    GEO.rcParams[\"penalty\"] = 1e6\n",
    "    \n",
    "    Model.run_for(time.value * u.minute, checkpoint_interval=0.5 * u.minute, glucifer_outputs=True )"
   ]
  },
  {
   "cell_type": "markdown",
   "metadata": {},
   "source": [
    "# Initial Setup\n",
    "\n",
    "# Model Geometry\n",
    "\n",
    "The shortening experiment follows a more or less classic set-up used to study fold-and-thrust belt evolution with analogue models. Shortening is achieved by moving the right-hand wall inward while the left wall and base are held fixed. The model consists of ‘sand’ layers with an embedded 0.5 cm thick layer of weaker ‘microbeads'. Total height is 10 cm. The initial width of the model is 40 cm. At the right side an initial wedge 10 cm long with a 10 degrees surface slope overlies the model. This wedge slope is in the stable field for a sand wedge (as calculated for this set-up from Dahlen 1984; Zhao et al. 1986). The\n",
    "\n",
    "<img src=\"./images/CompressionSetUp.png\" width=800>\n",
    "\n",
    "We use a uniform resolution of 0.2 cm (400 x 100 elements)\n",
    "\n",
    "\n",
    "## Material distribution\n",
    "\n",
    "The way we choose do define the initial set up is based on the distribution of the different materials (or phases)."
   ]
  },
  {
   "cell_type": "code",
   "execution_count": null,
   "metadata": {},
   "outputs": [],
   "source": [
    "w_button.on_click(make_model)"
   ]
  },
  {
   "cell_type": "code",
   "execution_count": null,
   "metadata": {},
   "outputs": [],
   "source": [
    "def vizualise(path=None):\n",
    "    # if no path provided use the global value from the widget\n",
    "    if path == None:\n",
    "        global outputPath\n",
    "        path = outputPath\n",
    "    import os\n",
    "    if not os.path.exists(path):\n",
    "        print(\"Can't find \", path)\n",
    "        return\n",
    "\n",
    "    vis = glucifer.lavavu.Viewer(database=path+'/glucifer.gldb')\n",
    "    vis.control.Panel()\n",
    "\n",
    "    vis.control.TimeStepper()\n",
    "    vis.control.ObjectList()\n",
    "    vis.control.show()"
   ]
  }
 ],
 "metadata": {
  "kernelspec": {
   "display_name": "Python 2",
   "language": "python",
   "name": "python2"
  },
  "language_info": {
   "codemirror_mode": {
    "name": "ipython",
    "version": 2
   },
   "file_extension": ".py",
   "mimetype": "text/x-python",
   "name": "python",
   "nbconvert_exporter": "python",
   "pygments_lexer": "ipython2",
   "version": "2.7.13"
  }
 },
 "nbformat": 4,
 "nbformat_minor": 2
}
