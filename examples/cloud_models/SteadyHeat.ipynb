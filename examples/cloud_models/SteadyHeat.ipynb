{
 "cells": [
  {
   "cell_type": "markdown",
   "metadata": {},
   "source": [
    "## Example of model with sliders & wrapping functions"
   ]
  },
  {
   "cell_type": "code",
   "execution_count": null,
   "metadata": {
    "hide_input": false
   },
   "outputs": [],
   "source": [
    "import underworld as uw\n",
    "import glucifer\n",
    "from ipywidgets import interact, interactive, fixed, interact_manual\n",
    "import ipywidgets as widgets\n",
    "from IPython.display import display\n",
    "from IPython.display import clear_output"
   ]
  },
  {
   "cell_type": "markdown",
   "metadata": {},
   "source": [
    "Setup parameters\n",
    "-----"
   ]
  },
  {
   "cell_type": "code",
   "execution_count": null,
   "metadata": {},
   "outputs": [],
   "source": [
    "outputPath = './SteadyState/'\n",
    "# Set box size.\n",
    "boxHeight = 1.0\n",
    "boxLength = 2.0\n",
    "# Set the resolution.\n",
    "resx = 16\n",
    "resy = widgets.IntSlider(description='no. elements', min=1,max=100, value=8)\n",
    "heating = widgets.IntSlider(description='heating', min=-10,max=10, value=2)\n",
    "outputbox = widgets.Text(\n",
    "    value='output/steadystate',\n",
    "    description='output path:',\n",
    "    disabled=False\n",
    ")"
   ]
  },
  {
   "cell_type": "code",
   "execution_count": null,
   "metadata": {},
   "outputs": [],
   "source": [
    "xx = widgets.Button(\n",
    "    description='Do science',\n",
    "    disabled=False,\n",
    "    button_style='', # 'success', 'info', 'warning', 'danger' or ''\n",
    "    tooltip='Click me',\n",
    "    icon='check'\n",
    ")"
   ]
  },
  {
   "cell_type": "code",
   "execution_count": null,
   "metadata": {},
   "outputs": [],
   "source": [
    "def display_options():\n",
    "    display(resy)\n",
    "    display(heating)\n",
    "    display(xx)\n",
    "    display(outputbox)"
   ]
  },
  {
   "cell_type": "markdown",
   "metadata": {},
   "source": [
    "Create mesh and variables\n",
    "------"
   ]
  },
  {
   "cell_type": "code",
   "execution_count": null,
   "metadata": {},
   "outputs": [],
   "source": [
    "def make_model(d):\n",
    "    global outputPath \n",
    "    outputPath = str(outputbox.value)\n",
    "    import os\n",
    "    outputPath = os.path.abspath(outputPath)+'/'\n",
    "    # build output path on root proc\n",
    "    if uw.rank() == 0:\n",
    "        if not os.path.exists(outputPath):\n",
    "            os.makedirs(outputPath)\n",
    "\n",
    "    mesh = uw.mesh.FeMesh_Cartesian( elementType = (\"Q1/dQ0\"), \n",
    "                                 elementRes  = (resy.value, resy.value), \n",
    "                                 minCoord    = (0., 0.), \n",
    "                                 maxCoord    = (boxLength, boxHeight))\n",
    "    print(\"Running with {} x {} elements\".format(resy.value, resy.value))\n",
    "    # Create mesh variables for the temperature field & initialise. \n",
    "    temperatureField = mesh.add_variable( nodeDofCount=1 )\n",
    "    temperatureField.data[:] = 0.\n",
    "\n",
    "    # visualisation of temperature field & mesh\n",
    "    store = glucifer.Store(outputPath+'/glucifer.gldb')\n",
    "    fig = glucifer.Figure( store, figsize=(800,400) )\n",
    "    fig.append(glucifer.objects.Mesh( mesh ))\n",
    "    fig.Surface( mesh, temperatureField, colours=\"blue white red\", name=\"Temperature\" )\n",
    "    fig.save()\n",
    "    store.step = store.step + 1\n",
    "    \n",
    "    jWalls = mesh.specialSets[\"MinJ_VertexSet\"] + mesh.specialSets[\"MaxJ_VertexSet\"]\n",
    "    tempBC = uw.conditions.DirichletCondition( variable=temperatureField, indexSetsPerDof=(jWalls,) )\n",
    "    # set bottom wall temperature bc\n",
    "    for index in mesh.specialSets[\"MinJ_VertexSet\"]:\n",
    "        temperatureField.data[index] = 1.0\n",
    "    # set top wall temperature bc\n",
    "    for index in mesh.specialSets[\"MaxJ_VertexSet\"]:\n",
    "        temperatureField.data[index] = 0\n",
    "    \n",
    "    heatequation = uw.systems.SteadyStateHeat(temperatureField = temperatureField, \n",
    "                                          fn_heating=heating.value ,\n",
    "                                          fn_diffusivity = 1.0, \n",
    "                                          conditions = tempBC)\n",
    "    # get the default heat equation solver\n",
    "    heatsolver = uw.systems.Solver(heatequation)\n",
    "    # solve.solve()\n",
    "    heatsolver.solve()\n",
    "    fig.save()\n",
    "    return temperatureField"
   ]
  },
  {
   "cell_type": "code",
   "execution_count": null,
   "metadata": {},
   "outputs": [],
   "source": [
    "def vizualise(path=None):\n",
    "    # if no path provided use the global value from the widget\n",
    "    if path == None:\n",
    "        global outputPath\n",
    "        path = outputPath\n",
    "    import os\n",
    "    if not os.path.exists(path):\n",
    "        print(\"Can't find \", path)\n",
    "        return\n",
    "\n",
    "    vis = glucifer.lavavu.Viewer(database=path+'/glucifer.gldb')\n",
    "    vis.control.Panel()\n",
    "\n",
    "    vis.control.TimeStepper()\n",
    "    vis.control.ObjectList()\n",
    "    vis.control.show()"
   ]
  },
  {
   "cell_type": "code",
   "execution_count": null,
   "metadata": {},
   "outputs": [],
   "source": [
    "xx.on_click(make_model)"
   ]
  },
  {
   "cell_type": "code",
   "execution_count": null,
   "metadata": {},
   "outputs": [],
   "source": [
    "display_options()"
   ]
  },
  {
   "cell_type": "code",
   "execution_count": null,
   "metadata": {},
   "outputs": [],
   "source": [
    "# vizualise()"
   ]
  },
  {
   "cell_type": "code",
   "execution_count": null,
   "metadata": {},
   "outputs": [],
   "source": []
  }
 ],
 "metadata": {
  "kernelspec": {
   "display_name": "Python 2",
   "language": "python",
   "name": "python2"
  },
  "language_info": {
   "codemirror_mode": {
    "name": "ipython",
    "version": 2
   },
   "file_extension": ".py",
   "mimetype": "text/x-python",
   "name": "python",
   "nbconvert_exporter": "python",
   "pygments_lexer": "ipython2",
   "version": "2.7.13"
  }
 },
 "nbformat": 4,
 "nbformat_minor": 2
}
