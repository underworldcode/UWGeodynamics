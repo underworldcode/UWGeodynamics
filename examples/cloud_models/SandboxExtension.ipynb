{
 "cells": [
  {
   "cell_type": "markdown",
   "metadata": {},
   "source": [
    "# Tutorial 3: The Numerical Sandbox, Extension Experiment (Static mesh version)\n",
    "\n",
    "**Romain Beucher**\n",
    "Version 0.1\n",
    "\n",
    "romain.beucher@unimelb.edu.au\n",
    "\n",
    "The following notebook is an implementation of the Numerical Sandbox Extension Experiment similar to [Buiter et al., 2006](http://sp.lyellcollection.org/content/253/1/29). The test is commonly referred as one of the GEOMOD benchmarks and is used to test the large deformation viscous-plastic behaviour of geodynamic numerical codes.\n",
    "\n",
    "The initial purpose of the GEOMOD numerical experiments was to compare results from analog and numerical experiments. It is not a numerical benchmark sensus-stricto.\n",
    "\n",
    "The test has been implemented using Fantom in [Thieulot, 2011](http://linkinghub.elsevier.com/retrieve/pii/S0031920111001336) and more recently with Aspect in [Glerum et al., 2017](http://www.solid-earth-discuss.net/se-2017-9). "
   ]
  },
  {
   "cell_type": "markdown",
   "metadata": {},
   "source": [
    "![title](images/underworld.png)"
   ]
  },
  {
   "cell_type": "markdown",
   "metadata": {},
   "source": [
    "Results for Underworld from this notebook"
   ]
  },
  {
   "cell_type": "markdown",
   "metadata": {},
   "source": [
    "A | B\n",
    "- | - \n",
    "![title](images/ExtensionA.png) | ![title](images/ExtensionB.png) "
   ]
  },
  {
   "cell_type": "markdown",
   "metadata": {},
   "source": [
    "Results for the extension experiment after 2cm extension (Buiter et al., 2006)"
   ]
  },
  {
   "cell_type": "code",
   "execution_count": null,
   "metadata": {},
   "outputs": [],
   "source": [
    "import UWGeodynamics as GEO\n",
    "from ipywidgets import interact, interactive, fixed, interact_manual\n",
    "import ipywidgets as widgets\n",
    "from IPython.display import display, Image\n",
    "from IPython.display import clear_output"
   ]
  },
  {
   "cell_type": "code",
   "execution_count": null,
   "metadata": {},
   "outputs": [],
   "source": [
    "u = GEO.UnitRegistry"
   ]
  },
  {
   "cell_type": "markdown",
   "metadata": {},
   "source": [
    "# Model Geometry\n",
    "\n",
    "Set-up of the extension experiment. A viscous layer (PDMS, 10 x 0.5 cm) lies in the central part of the model on the base. The rest of the model consists of three ‘sand’ layers (only differing in colour). Extension is achieved by moving the right wall with the attached 10 cm long sheet outwards to the right.\n",
    "\n",
    "<img src=\"images/Extension.png\" width=800>\n",
    "\n",
    "We use a uniform resolution of 0.2 cm (400 x 100 elements)"
   ]
  },
  {
   "cell_type": "code",
   "execution_count": null,
   "metadata": {},
   "outputs": [],
   "source": [
    "outputDir=\"outputs_tutorial3\"\n",
    "\n",
    "# define all widgets\n",
    "\n",
    "fs = {'description_width': 'initial'} # full style\n",
    "time = widgets.IntSlider(description='no. minutes ', min=1,max=60,style=fs, value=2)\n",
    "wall_vx = widgets.BoundedFloatText(value=2.5,min=-200.,max=200.0,\n",
    "                                   description='Right wall velocity [cm/hr]', style=fs,disabled=False )\n",
    "res = widgets.BoundedFloatText(value=0.1,min=0.02,max=1.0,\n",
    "                               description='Initial Resolution [cm]', style=fs,disabled=False )\n",
    "outputbox = widgets.Text(\n",
    "    value='output/extension',\n",
    "    description='output path:',\n",
    "    disabled=False\n",
    ")\n",
    "\n",
    "w_button = widgets.Button(\n",
    "    description='Do science',\n",
    "    disabled=False,\n",
    "    button_style='', # 'success', 'info', 'warning', 'danger' or ''\n",
    "    tooltip='Click me',\n",
    "    icon='check'\n",
    ")\n",
    "\n",
    "outputPath = './outputs_tutorial3'\n",
    "\n",
    "def display_options():\n",
    "    display(Image('../images/Extension.png'))\n",
    "    display(time)\n",
    "    display(wall_vx)\n",
    "    display(res)\n",
    "    display(outputbox)\n",
    "    display(w_button)"
   ]
  },
  {
   "cell_type": "code",
   "execution_count": null,
   "metadata": {},
   "outputs": [],
   "source": [
    "velocity = wall_vx.value * u.centimeter / u.hour\n",
    "model_length = 20. * u.centimeter\n",
    "bodyforce = 1560 * u.kilogram / u.metre**3 * 9.81 * u.meter / u.second**2\n",
    "\n",
    "KL = model_length\n",
    "Kt = KL / velocity\n",
    "KM = bodyforce * KL**2 * Kt**2\n",
    "\n",
    "GEO.scaling_coefficients[\"[length]\"] = KL\n",
    "GEO.scaling_coefficients[\"[time]\"] = Kt\n",
    "GEO.scaling_coefficients[\"[mass]\"]= KM"
   ]
  },
  {
   "cell_type": "code",
   "execution_count": null,
   "metadata": {},
   "outputs": [],
   "source": [
    "def make_model(d):\n",
    "    \n",
    "#     display_options()\n",
    "    \n",
    "    global outputPath \n",
    "    outputPath = str(outputbox.value)\n",
    "    import os\n",
    "    outputPath = os.path.abspath(outputPath)+'/'\n",
    "    \n",
    "    import math\n",
    "    nx = model_length.magnitude / res.value\n",
    "    ny = 5. / res.value\n",
    "    \n",
    "    nx = int(math.ceil(nx / 2.) * 2)\n",
    "    ny = int(math.ceil(ny / 2.) * 2)\n",
    "    \n",
    "    Model = GEO.Model(elementRes=(nx, ny), \n",
    "                      minCoord=(0. * u.centimeter, -3.5 * u.centimeter), \n",
    "                      maxCoord=(model_length, 1.5 * u.centimeter), \n",
    "                      gravity=(0.0, -9.81 * u.meter / u.second**2))\n",
    "    print(\"Running with {} x {} elements\".format(nx, ny))\n",
    "    Model.outputDir = outputPath\n",
    "    Model.add_visugrid(elementRes=(100, 25), \n",
    "                   minCoord=(0. * u.centimeter, -3.5 * u.centimeter), \n",
    "                   maxCoord=(model_length, 0.0 * u.centimeter))\n",
    "\n",
    "    air = Model.add_material(name=\"Air\", shape=GEO.shapes.Layer(top=Model.top, bottom=Model.bottom))\n",
    "    sand1 = Model.add_material(name=\"Sand1\", shape=GEO.shapes.Layer(top=0.*u.centimeter, bottom=Model.bottom))\n",
    "    sand2 = Model.add_material(name=\"Sand2\", shape=GEO.shapes.Layer(top=-1. * u.centimeter, bottom=-2. * u.centimeter))\n",
    "\n",
    "    vertices = [( 5.* u.centimeter, -3.0 * u.centimeter),\n",
    "                (15.* u.centimeter, -3.0 * u.centimeter),\n",
    "                (15.* u.centimeter, -3.5 * u.centimeter),\n",
    "                ( 5.* u.centimeter, -3.5 * u.centimeter)]\n",
    "\n",
    "    silicon = Model.add_material(name=\"Silicon\", shape=GEO.shapes.Polygon(vertices))\n",
    "    \n",
    "    air.density = 10. * u.kilogram / u.metre**3\n",
    "    sand1.density = 1560. * u.kilogram / u.metre**3\n",
    "    sand2.density = 1560. * u.kilogram / u.metre**3\n",
    "    silicon.density = 965. * u.kilogram / u.metre**3\n",
    "    \n",
    "    # Assign function to materials\n",
    "    air.viscosity     = GEO.ConstantViscosity(1.0e2  * u.pascal * u.second)\n",
    "    sand1.viscosity   = GEO.ConstantViscosity(1.0e13 * u.pascal * u.second)\n",
    "    sand2.viscosity   = GEO.ConstantViscosity(1.0e13 * u.pascal * u.second)\n",
    "    silicon.viscosity = GEO.ConstantViscosity(5.0e4  * u.pascal * u.second)\n",
    "\n",
    "    sandPlasticity = GEO.DruckerPrager(cohesion=10. * u.pascal,\n",
    "                                         cohesionAfterSoftening=10. * u.pascal,\n",
    "                                         frictionCoefficient=0.73,\n",
    "                                         frictionAfterSoftening=0.60,\n",
    "                                         minimumViscosity=1.0e2  * u.pascal * u.second)\n",
    "    \n",
    "    sand1.plasticity = sandPlasticity\n",
    "    sand2.plasticity = sandPlasticity\n",
    "    \n",
    "    conditions = [(Model.x > GEO.nd(10.1 * u.centimetre), GEO.nd(velocity)),\n",
    "              (Model.x > GEO.nd(9.9 * u.centimetre), (Model.x - GEO.nd(9.9 * u.centimetre)) * GEO.nd(velocity) / GEO.nd(0.2 * u.centimetre)),\n",
    "              (True, 0.0)]\n",
    "\n",
    "    Model.set_velocityBCs(left=[0 * u.centimeter / u.hour, None],\n",
    "                          right=[velocity, None],\n",
    "                          bottom=[conditions, 0.0])\n",
    "    \n",
    "    Model.minViscosity = 1.0e2 * u.pascal * u.second\n",
    "    Model.maxViscosity = 1.0e9 * u.pascal * u.second\n",
    "    Model.init_model()\n",
    "    \n",
    "    GEO.rcParams[\"solver\"] = \"mumps\"\n",
    "    GEO.rcParams[\"penalty\"] = 1e6\n",
    "\n",
    "    Model.run_for(time.value * u.minutes, checkpoint_interval=3 * u.minutes, glucifer_outputs=True)"
   ]
  },
  {
   "cell_type": "code",
   "execution_count": null,
   "metadata": {},
   "outputs": [],
   "source": [
    "w_button.on_click(make_model)\n",
    "display_options()"
   ]
  },
  {
   "cell_type": "code",
   "execution_count": null,
   "metadata": {},
   "outputs": [],
   "source": [
    "def vizualise(path=None):\n",
    "    # if no path provided use the global value from the widget\n",
    "    if path == None:\n",
    "        global outputPath\n",
    "        path = outputPath\n",
    "    import os\n",
    "    if not os.path.exists(path):\n",
    "        print(\"Can't find \", path)\n",
    "        return\n",
    "\n",
    "    vis = glucifer.lavavu.Viewer(database=path+'/glucifer.gldb')\n",
    "    vis.control.Panel()\n",
    "\n",
    "    vis.control.TimeStepper()\n",
    "    vis.control.ObjectList()\n",
    "    vis.control.show()"
   ]
  }
 ],
 "metadata": {
  "kernelspec": {
   "display_name": "Python 2",
   "language": "python",
   "name": "python2"
  },
  "language_info": {
   "codemirror_mode": {
    "name": "ipython",
    "version": 2
   },
   "file_extension": ".py",
   "mimetype": "text/x-python",
   "name": "python",
   "nbconvert_exporter": "python",
   "pygments_lexer": "ipython2",
   "version": "2.7.13"
  }
 },
 "nbformat": 4,
 "nbformat_minor": 2
}
